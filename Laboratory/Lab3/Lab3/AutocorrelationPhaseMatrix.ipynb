{
 "cells": [
  {
   "cell_type": "markdown",
   "metadata": {},
   "source": [
    "<div>\n",
    "<h1>Autocorrelation Phase Matrix</h1> \n",
    "</div>"
   ]
  },
  {
   "cell_type": "markdown",
   "metadata": {},
   "source": [
    "Which are the weaknesses of autocorrelation-based tempogram?\n",
    "\n",
    "It assumes that beats are always equally spaced.\n",
    "\n",
    "What if:\n",
    "* Beat can shift both in **time** (e.g. between different levels of the metrical hierarchy) \n",
    "* Beat can shift in **phase** (e.g. from unsyncopated to syncopated).\n",
    "* Beat can **change** in the middle of a piece, and it will corresponds to when the meter and tempo shifts are encountered\n",
    "* Polyrhythms are present (hemiola, cross-rhythm,...) ?\n",
    "\n",
    "An ideal beat estimation process should consider multiple hypotheses about beat in parallel and should allow to switch between these hypotheses."
   ]
  },
  {
   "cell_type": "markdown",
   "metadata": {},
   "source": [
    "# Autocorrelation Phase Matrix"
   ]
  },
  {
   "cell_type": "markdown",
   "metadata": {},
   "source": [
    "Let's consider again a given **windowed** novelty function of **finite length** $N$ $\\Delta_{w,n}(m):\\mathbb{Z}\\to\\mathbb{R}$, defined as we did for autocorrelation tempogram definition.\n",
    "\n",
    "\n",
    "For notation simplicity, let's discard $n$ and $w$ parameters (window index and window type parameter) and consider just one window of the novelty function that we will indicate as $\\Delta(m)$ of length $N$. The length of the windowed signal $N$ must be long enough for analysing all the possible tempos \n",
    "\\begin{equation}\n",
    "    1\\leq  k_{\\text{min}} \\leq k_{\\text{max}} \\leq N-1.\n",
    "\\end{equation}\n",
    "\n",
    "\n",
    "Then, the **autocorrelation phase matrix (APM)** will be defined as \n",
    "\n",
    "$$\n",
    "P(\\phi, k) = \\sum_{i=0}^{\\lceil\\frac{N -\\phi}{k}\\rceil} \\Delta(k i + \\phi)\\Delta(k(i+1)+\\phi)\n",
    "$$\n",
    "\n",
    "where $k$ is the considered lag and $\\phi$ is the phase.\n",
    "\n",
    "Phase is constrained such that $\\phi < k$, hence APM is a **triangular matrix**.\n",
    "\n",
    "For each lag $k$ of interest, the APM stores intermediate results of autocorrelation in a vector of length $k$ such that the results of the dot product from the autocorrelation are wrapped into the APM row by their phase $\\phi$. In this way APM preserves the distribution of autocorrelation energy in the **phase space**.\n",
    "\n",
    "\n",
    "Let's see an image example:\n",
    "\n",
    "<img src=\"data/img/apm_1.png\" width=\"800px\" align=\"center\" alt=\"APM first example\">\n",
    "<img src=\"data/img/apm_2.png\" width=\"800px\" align=\"center\" alt=\"APM second example\">\n",
    "<img src=\"data/img/apm_3.png\" width=\"800px\" align=\"center\" alt=\"APM third example\">\n"
   ]
  },
  {
   "cell_type": "markdown",
   "metadata": {},
   "source": [
    "Let's define also a counter matrix $C$ that allows to \"normalize\" the APM:\n",
    "\n",
    "$$\n",
    "C(\\phi, k)=\\frac{N-\\phi}{k}\n",
    "$$\n",
    "\n",
    "Hence unbiased APM can be obtained as element-wise division of $P(\\phi, k)$ and $C(\\phi, k)$: \n",
    "\n",
    "\n",
    "$$\n",
    "\\hat{P}(\\phi, k) = \\frac{P(\\phi, k)}{C(\\phi, k)}\n",
    "$$\n",
    "\n",
    "\n",
    "\n",
    "The algorithm can be expressed in pseudocode as:\n",
    "\n",
    "\n",
    "<img src=\"data/img/pseudocode.png\" width=\"800px\" align=\"left\" alt=\"Pseudocode for APM computation\">\n",
    "\n"
   ]
  },
  {
   "cell_type": "markdown",
   "metadata": {},
   "source": [
    "### Autocorrelation from APM\n",
    "\n",
    "Autocorrelation for a window $a(k)$ can be obtained by summing all phase values for each lag, i.e. summing the rows of the APM $P(k, \\phi)$.\n",
    "\n",
    "\\begin{equation}\n",
    "\\mathcal{A}(k) = \\sum_{i=0}^{k-1} P(k, i)\n",
    "\\end{equation}\n",
    "\n",
    "\n"
   ]
  },
  {
   "cell_type": "markdown",
   "metadata": {},
   "source": [
    "## Implementation"
   ]
  },
  {
   "cell_type": "code",
   "execution_count": 1,
   "metadata": {},
   "outputs": [],
   "source": [
    "import numpy as np\n",
    "import librosa\n",
    "import os\n",
    "import matplotlib.pyplot as plt\n",
    "import IPython.display as ipd"
   ]
  },
  {
   "cell_type": "markdown",
   "metadata": {},
   "source": [
    "Let's define a **novelty function** (it's different from the novelty functions we analyized in class, so let's skip this)"
   ]
  },
  {
   "cell_type": "code",
   "execution_count": 2,
   "metadata": {},
   "outputs": [],
   "source": [
    "def a_novelty_function(x, Fs=1, N=1024, H=512):\n",
    "    \"\"\"Compute complex-domain novelty function\n",
    "    \"\"\"     \n",
    "    X = librosa.stft(x, n_fft=N, hop_length=H, win_length=N, window='hanning')\n",
    "    Fs_feature = Fs/H\n",
    "    mag = np.abs(X)\n",
    "    \n",
    "    phase = np.angle(X)/(2*np.pi)\n",
    "    \n",
    "    unwr_phase = np.zeros_like(X, dtype=float);\n",
    "    for i in np.arange(X.shape[1]):\n",
    "        unwr_phase[:,i] = np.unwrap( np.angle(X[:,i]) )\n",
    "    \n",
    "    def warp(x, low, interval):\n",
    "        return np.remainder(x - low, interval) + low\n",
    "    \n",
    "    phase_shift = unwr_phase[:,2:] - 2*unwr_phase[:,1:-1] + unwr_phase[:,0:-2]\n",
    "    phase_shift =  warp(phase_shift, -np.pi, 2*np.pi)\n",
    "    \n",
    "    \n",
    "    amp_pred = mag[:,1:-1]\n",
    "    amp_true = mag[:,2:]\n",
    "    \n",
    "    novelty_complex = (amp_pred**2 + amp_true**2 - 2 * amp_pred * amp_true * np.cos(phase_shift))\n",
    "    \n",
    "    # Half wave rectification\n",
    "    novelty_complex[novelty_complex<0]=0\n",
    "    \n",
    "    novelty_complex = np.sqrt(novelty_complex)\n",
    "    \n",
    "    novelty_complex = np.sum(novelty_complex, axis=0)\n",
    "    novelty_complex = np.concatenate((novelty_complex, np.array([0, 0])))\n",
    "    return novelty_complex, Fs_feature\n"
   ]
  },
  {
   "cell_type": "markdown",
   "metadata": {},
   "source": [
    "### Compute novelty function"
   ]
  },
  {
   "cell_type": "code",
   "execution_count": null,
   "metadata": {},
   "outputs": [],
   "source": []
  },
  {
   "cell_type": "code",
   "execution_count": null,
   "metadata": {},
   "outputs": [],
   "source": []
  },
  {
   "cell_type": "markdown",
   "metadata": {},
   "source": [
    "### Compute APM"
   ]
  },
  {
   "cell_type": "code",
   "execution_count": 5,
   "metadata": {},
   "outputs": [],
   "source": []
  },
  {
   "cell_type": "code",
   "execution_count": null,
   "metadata": {},
   "outputs": [],
   "source": [
    "\n",
    "\n",
    "\n"
   ]
  },
  {
   "cell_type": "code",
   "execution_count": null,
   "metadata": {},
   "outputs": [],
   "source": []
  },
  {
   "cell_type": "markdown",
   "metadata": {},
   "source": [
    "### In practice, how do we estimate tempo features from the APM?\n",
    "\n",
    "We need to look at **persistent peaks** in the APM. Each peak corresponds to a lag $k$ and phase $\\phi$ value and they identify one of the internal subdivision of the considered rhythm."
   ]
  },
  {
   "cell_type": "markdown",
   "metadata": {},
   "source": [
    "# Decomposition of APM matrix\n",
    "\n",
    "Each element of the autocorrelation phase matrix $P(k,\\phi)$ can be rewritten \"unrolling\" the sum:\n",
    "\n",
    "\n",
    "\\begin{equation}\n",
    "    P(\\phi, k) = \\Delta(\\phi)\\Delta(k+\\phi)+\\Delta(k+\\phi)\\Delta(2k+\\phi)+...+\\Delta((K-2)k+\\phi)\\Delta((K-1)k+\\phi)\n",
    "\\end{equation} \n",
    "\n",
    "where $K = \\Big\\lceil\\frac{N -\\phi}{k}\\Big\\rceil$ is the number of samples available in a $N$-long sequence for the pair $(\\phi, k)$ (i.e. the number of elements in the summation). \n",
    "\n",
    "Looking at the first definition of APM, the first element corresponds to index $i=0$ in the summation, the second element corresponds to index $i=1$ in the summation, and so on...\n",
    "\n",
    "\n",
    "This operation can be seen as the dot product of two vectors of length $K-1$:\n",
    "\n",
    "\n",
    "\\begin{equation} \n",
    "    P(\\phi, k) = \\Delta_1(\\phi, k) \\cdot \\Delta_2(\\phi, k)\n",
    "\\end{equation}\n",
    "where \n",
    "\n",
    "\\begin{equation}\n",
    "     \\Delta_1(\\phi, k) = [\\Delta(\\phi), \\Delta(\\phi+k),...,\\Delta(\\phi+(K-2)k] \\\\\n",
    "     \\Delta_2(\\phi, k) = [\\Delta(\\phi+k), \\Delta(\\phi+2k),...,\\Delta(\\phi+(K-1)k]\n",
    "\\end{equation}\n",
    "\n",
    "\n",
    "Now consider two matrices, $D_1(\\phi, k)$ and $D_2(\\phi, k) $, where the element $(i,j)$ is defined as:\n",
    "\n",
    "\n",
    "\\begin{equation}\n",
    "    D_1(\\phi, k)_{i,j} = \n",
    "    \\begin{cases} \n",
    "      1 &   \\text{if} \\ j =\\phi+ki \\\\\n",
    "      0 &   \\text{else}\n",
    "   \\end{cases}\n",
    "\\end{equation}\n",
    "\n",
    "\\begin{equation}\n",
    "   D_2(\\phi, k)_{i,j} = \n",
    "    \\begin{cases} \n",
    "      1 &   \\text{if} \\ j =\\phi+k(i+1) \\\\\n",
    "      0 &   \\text{else}\n",
    "   \\end{cases}\n",
    "\\end{equation}\n",
    "\n",
    "Please note that both $D_1(\\phi, k)$ and $D_2(\\phi, k)$ are defined for a specific couple of values of lag $k$ and phase $\\phi$.\n",
    "\n",
    "\n",
    "Then the two vectors, $x_1$ and $x_2$ can be expressed as:\n",
    "\n",
    "\\begin{equation}\n",
    "    x_1(\\phi, k) = [x(\\phi), x(\\phi+k),...,x(\\phi+(K-2)k] = D_1 (\\phi, k) x \\\\\n",
    "    x_2(\\phi, k) = [x(\\phi+k), x(\\phi+2k),...,x(\\phi+(K-1)k] = D_2(\\phi, k) x\n",
    "\\end{equation}\n",
    "\n",
    "where $ x = [x(0), x(1), ... x(N)] $.\n",
    "\n",
    "\n",
    "Finally the autocorrelation phase matrix can be reformulated as:\n",
    "\\begin{equation}\n",
    "    P(\\phi, k) = [D_1(\\phi, k) x ] \\cdot [D_2(\\phi, k) x]\n",
    "\\end{equation}\n"
   ]
  },
  {
   "cell_type": "markdown",
   "metadata": {},
   "source": [
    "## Time instant influence\n",
    "\n",
    "Let's assume our onset novelty function is made of one single impulse signal:\n",
    "\n",
    "\n",
    "\\begin{equation}\n",
    "    e_\\hat{t}(t) = \\begin{cases}\n",
    "        1 & t = \\hat{t}\\\\\n",
    "        0 & \\text{else}\n",
    "        \\end{cases}\n",
    "\\end{equation}\n",
    "\n",
    "then, given the definition, $P(\\phi, k) = 0$ for all $k$, $\\phi$ values.\n",
    "\n",
    "However, the fact that $P(\\phi, k)$ is equal 0 **does not implicates** that each element of the just defined decomposition is equal 0. \n",
    "\n",
    "We can exploit the decomposition of $P(\\phi, k)$ in this special case to give an answer to a question: which elements of $P(\\phi, k)$ are \"affected\" by the value in $t=\\hat{t}$? Meaning, for which couples of $(\\phi, k)$ I am selecting $x(\\hat{t})$ in the summation?\n",
    "\n",
    "Think of it as an **inverse mapping** from lag-phase domain to time domain\n",
    "\n",
    "\n",
    "Hence, considering  $P(\\phi, k) = [D_1(\\phi, k) e_\\hat{t} ] \\cdot [D_2(\\phi, k) e_\\hat{t}]$, the couples $(\\phi, k)$ that satisfy:\n",
    "\n",
    "\\begin{equation}\n",
    "    \\sum_i D_1(\\phi, k)e_\\hat{t} \\neq 0 \\quad \\text{or} \\quad \\sum_i D_2(\\phi, k)e_\\hat{t} \\neq 0\n",
    "\\end{equation}\n",
    "\n",
    "\n",
    "create a **set** which tell us the corrispondence between $(\\phi, k)$ and $\\hat{t}$. We call this set **influence of t** and it is indicated with $\\mathbf{I_\\hat{t}}$.\n",
    "\n",
    "Note that the previous formulation is equivalent to\n",
    "\\begin{equation}\n",
    "    \\mathbf{I_\\hat{t}}: \\Big\\{ (\\phi, k) \\quad \\Big| \\quad \\hat{t} = \\phi + ki \\ \\quad i=0,1,...,K-1 \\Big\\}\n",
    "\\end{equation}\n",
    "\n",
    "\n",
    "We can create a **binary mask** in the $(\\phi, k)$ space equal to 1 if $(\\phi, k) \\in \\mathbf{I_\\hat{t}}$ and equal to 0 otherwise."
   ]
  },
  {
   "cell_type": "code",
   "execution_count": 8,
   "metadata": {},
   "outputs": [],
   "source": [
    "def influence(t, lags, N):\n",
    "    \n",
    "    return "
   ]
  },
  {
   "cell_type": "code",
   "execution_count": null,
   "metadata": {},
   "outputs": [],
   "source": [
    "\n"
   ]
  },
  {
   "cell_type": "markdown",
   "metadata": {},
   "source": [
    "As can be seen, in the $(k,\\phi)$ space, $\\hat{t}$ influence only certain **segments** of $P(\\phi, k)$, in particular all the lines \n",
    "\n",
    "\n",
    "\\begin{equation}\n",
    "    k = -\\frac{1}{i}\\phi + \\frac{\\hat{t}}{i}\n",
    "\\end{equation}\n",
    "\n",
    "\n",
    "with $i = \\{0, 1, ..., K-1\\}$. In particular $i=0$ corresponds to the vertical line.\n",
    "(Think to the equation of a line where $k$ is the $y$ and $\\phi$ is the $x$)\n",
    "\n",
    "\n",
    "This is a beam of lines with center $(k_0,\\phi_0)$. Therefore, for each slope $i$, it will be true that:\n",
    "\\begin{equation}\n",
    "    i k_0 = -\\phi_0 + \\hat{t} \\ \\ \\forall i\n",
    "\\end{equation}\n",
    "\n",
    "and the values for the center of the beam are:\n",
    "\\begin{equation}\n",
    "    k_0 = 0\\\\\n",
    "    \\phi_0 = \\hat{t}\n",
    "\\end{equation}\n",
    "\n",
    "\n",
    "The beam of lines correspondent is shown in this figure:\n",
    "<img src=\"data/img/influence.png\" width=\"600px\" align=\"center\" alt=\"APM first example\">\n"
   ]
  },
  {
   "cell_type": "markdown",
   "metadata": {},
   "source": [
    "### Let's consider two non zero points\n",
    "\n",
    "We can now extend the previous considerations to the case of **two nonzero instants** $t_1, t_2$ in the input signal $x(j)$.\n",
    "The big difference is that now some entries of  $P(\\phi, k)$ will be nonzero. \n",
    "For the reasons explained before, this will happen for all the values of $(\\phi, k)$ belonging to the intersection of $\\mathbf{I_{t1}}$ and $\\mathbf{I_{t2}}$\n",
    "\n",
    "$$\n",
    "\\Big\\{ (\\phi, k) \\in I_{t1} \\cap I_{t2} \\Big \\}\n",
    "$$ \n",
    "\n",
    "\n",
    "This is true at the intersections of the two beams, one centered in $(t1, 0)$ and the other in $(t2, 0)$.\n",
    "Let's visualize these two beams in the $\\phi$-$k$ space:\n",
    "\n",
    "<img src=\"data/img/influence_2.png\" width=\"600px\" align=\"center\" alt=\"APM first example\">\n",
    "\n"
   ]
  },
  {
   "cell_type": "markdown",
   "metadata": {},
   "source": [
    "What happens to the APM?"
   ]
  },
  {
   "cell_type": "code",
   "execution_count": null,
   "metadata": {},
   "outputs": [],
   "source": []
  },
  {
   "cell_type": "code",
   "execution_count": null,
   "metadata": {},
   "outputs": [],
   "source": []
  },
  {
   "cell_type": "markdown",
   "metadata": {},
   "source": [
    "As expected, in the autocorrelation matrix $P(\\phi, k)$ only intersections where both coordinates are integer can be observed. In order to show all the intersection we have to smooth the peaks at $t1$ and $t2$ and, to better show the lines in the beam, we are going to add a constant floor to the novelty function."
   ]
  },
  {
   "cell_type": "code",
   "execution_count": null,
   "metadata": {},
   "outputs": [],
   "source": []
  },
  {
   "cell_type": "code",
   "execution_count": null,
   "metadata": {
    "scrolled": false
   },
   "outputs": [],
   "source": [
    "\n"
   ]
  },
  {
   "cell_type": "code",
   "execution_count": null,
   "metadata": {},
   "outputs": [],
   "source": []
  },
  {
   "cell_type": "code",
   "execution_count": null,
   "metadata": {},
   "outputs": [],
   "source": []
  },
  {
   "cell_type": "code",
   "execution_count": null,
   "metadata": {},
   "outputs": [],
   "source": []
  }
 ],
 "metadata": {
  "kernelspec": {
   "display_name": "Python 3 (ipykernel)",
   "language": "python",
   "name": "python3"
  },
  "language_info": {
   "codemirror_mode": {
    "name": "ipython",
    "version": 3
   },
   "file_extension": ".py",
   "mimetype": "text/x-python",
   "name": "python",
   "nbconvert_exporter": "python",
   "pygments_lexer": "ipython3",
   "version": "3.8.11"
  }
 },
 "nbformat": 4,
 "nbformat_minor": 2
}
