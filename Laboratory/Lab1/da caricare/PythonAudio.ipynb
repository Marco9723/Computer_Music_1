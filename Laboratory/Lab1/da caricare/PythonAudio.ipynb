{
 "cells": [
  {
   "cell_type": "markdown",
   "metadata": {},
   "source": [
    "<div> \n",
    "<div><h1>Python Audio</h1></div>\n",
    "</div>\n",
    "\n",
    "<br/>\n",
    "\n",
    "<p>\n",
    "There are several ways to read and write <strong>audio files</strong> in Python, using different packages. This notebooks lists some options and discusses advantages and disadvantages. "
   ]
  },
  {
   "cell_type": "markdown",
   "metadata": {},
   "source": [
    "## LibROSA"
   ]
  },
  {
   "cell_type": "markdown",
   "metadata": {},
   "source": [
    "One option is to use librosa's functions [`librosa.load`](https://librosa.github.io/librosa/generated/librosa.core.load.html) and `librosa.output.write_wav`. \n",
    "\n",
    "* Per default, `librosa.load` resamples the audio to 22050 Hz. Setting `sr=None` keeps the native sampling rate.\n",
    "* Loaded audio is always converted to float in the range of $[-1, 1]$.\n",
    "* `librosa.load` is able to read mp3-files when [`ffmpeg`](https://ffmpeg.org/) is available.\n",
    "* `librosa.output.write_wav` always uses the data type of the numpy array (e.g. 64-bit float).\n",
    "\n",
    "Note that some of the librosa functionality for reading and writing audio files may be dropped in later versions as \n",
    "[discussed in this thread](https://github.com/librosa/librosa/issues/509)."
   ]
  },
  {
   "cell_type": "code",
   "execution_count": null,
   "metadata": {},
   "outputs": [],
   "source": []
  },
  {
   "cell_type": "code",
   "execution_count": null,
   "metadata": {},
   "outputs": [],
   "source": []
  },
  {
   "cell_type": "markdown",
   "metadata": {},
   "source": [
    "## PySoundFile"
   ]
  },
  {
   "cell_type": "markdown",
   "metadata": {},
   "source": [
    "The audio library [`PySoundFile`](https://pysoundfile.readthedocs.io/en/0.9.0/), which is supported by several several other libraries, yields also functions for reading and writing sound files. In particular, it contains the functions [`soundfile.read`](https://pysoundfile.readthedocs.io/en/latest/#soundfile.read) and [`soundfile.write`](https://pysoundfile.readthedocs.io/en/latest/#soundfile.write). \n",
    "\n",
    "* Per default, the loaded audio is converted to float in the range of $[-1, 1]$. This can be changed with the `dtype` keyword.\n",
    "* When writing, it uses signed 16 bit PCM (`subtype='PCM_16'`) as default.\n",
    "* There are no resampling options.\n",
    "* There is no option to read mp3 files.\n"
   ]
  },
  {
   "cell_type": "code",
   "execution_count": null,
   "metadata": {},
   "outputs": [],
   "source": []
  },
  {
   "cell_type": "code",
   "execution_count": null,
   "metadata": {},
   "outputs": [],
   "source": []
  },
  {
   "cell_type": "markdown",
   "metadata": {},
   "source": [
    "## SciPy"
   ]
  },
  {
   "cell_type": "markdown",
   "metadata": {},
   "source": [
    "Scipy offers the [`scipy.io.wavfile`](https://docs.scipy.org/doc/scipy/reference/io.html#module-scipy.io.wavfile) module, which also has functionalities for reading and writing wav files. However, not all variants of the wav format are support. For example, 24-bit integer wav files are not allowed. Furthermore, certain metadata fields in a wav file may also lead to errors."
   ]
  },
  {
   "cell_type": "code",
   "execution_count": null,
   "metadata": {},
   "outputs": [],
   "source": []
  },
  {
   "cell_type": "markdown",
   "metadata": {},
   "source": [
    "## Normalized Audio Playback \n",
    "\n",
    "We introduced the class\n",
    "\n",
    "`IPython.display.Audio(data=None, filename=None, url=None, embed=None, rate=None, autoplay=False, normalize=True, *, element_id=None)`\n",
    "\n",
    "for audio playback ([`IPython` version 6.0 or higher](https://ipython.readthedocs.io/en/stable/api/generated/IPython.display.html)). As default, this class **normalizes** the audio (dividing by the maximum over all sample values) before playback. This may be unwanted for certain applications, where the volume of the audio should be kept to its original level. To avoid normalization, one has to set the parameter `normalize=False`. However, this requires that all samples of the audio lie within the range between $-1$ and $-1$. In the following code cell, we give an illustrative examples for the two options."
   ]
  },
  {
   "cell_type": "code",
   "execution_count": null,
   "metadata": {},
   "outputs": [],
   "source": []
  },
  {
   "cell_type": "code",
   "execution_count": null,
   "metadata": {},
   "outputs": [],
   "source": []
  }
 ],
 "metadata": {
  "kernelspec": {
   "display_name": "Python 3",
   "language": "python",
   "name": "python3"
  },
  "language_info": {
   "codemirror_mode": {
    "name": "ipython",
    "version": 3
   },
   "file_extension": ".py",
   "mimetype": "text/x-python",
   "name": "python",
   "nbconvert_exporter": "python",
   "pygments_lexer": "ipython3",
   "version": "3.8.5"
  }
 },
 "nbformat": 4,
 "nbformat_minor": 1
}
